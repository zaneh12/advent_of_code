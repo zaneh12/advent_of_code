{
 "cells": [
  {
   "cell_type": "code",
   "execution_count": 2,
   "metadata": {},
   "outputs": [],
   "source": [
    "import numpy as np\n",
    "import json\n",
    "import pandas as pd"
   ]
  },
  {
   "cell_type": "code",
   "execution_count": 15,
   "metadata": {},
   "outputs": [
    {
     "data": {
      "text/html": [
       "<div>\n",
       "<style scoped>\n",
       "    .dataframe tbody tr th:only-of-type {\n",
       "        vertical-align: middle;\n",
       "    }\n",
       "\n",
       "    .dataframe tbody tr th {\n",
       "        vertical-align: top;\n",
       "    }\n",
       "\n",
       "    .dataframe thead th {\n",
       "        text-align: right;\n",
       "    }\n",
       "</style>\n",
       "<table border=\"1\" class=\"dataframe\">\n",
       "  <thead>\n",
       "    <tr style=\"text-align: right;\">\n",
       "      <th></th>\n",
       "      <th>0</th>\n",
       "    </tr>\n",
       "  </thead>\n",
       "  <tbody>\n",
       "    <tr>\n",
       "      <th>0</th>\n",
       "      <td>8417.0</td>\n",
       "    </tr>\n",
       "    <tr>\n",
       "      <th>1</th>\n",
       "      <td>8501.0</td>\n",
       "    </tr>\n",
       "    <tr>\n",
       "      <th>2</th>\n",
       "      <td>5429.0</td>\n",
       "    </tr>\n",
       "    <tr>\n",
       "      <th>3</th>\n",
       "      <td>2112.0</td>\n",
       "    </tr>\n",
       "    <tr>\n",
       "      <th>4</th>\n",
       "      <td>6482.0</td>\n",
       "    </tr>\n",
       "    <tr>\n",
       "      <th>5</th>\n",
       "      <td>7971.0</td>\n",
       "    </tr>\n",
       "    <tr>\n",
       "      <th>6</th>\n",
       "      <td>9636.0</td>\n",
       "    </tr>\n",
       "    <tr>\n",
       "      <th>7</th>\n",
       "      <td>4003.0</td>\n",
       "    </tr>\n",
       "    <tr>\n",
       "      <th>8</th>\n",
       "      <td>NaN</td>\n",
       "    </tr>\n",
       "    <tr>\n",
       "      <th>9</th>\n",
       "      <td>4697.0</td>\n",
       "    </tr>\n",
       "  </tbody>\n",
       "</table>\n",
       "</div>"
      ],
      "text/plain": [
       "        0\n",
       "0  8417.0\n",
       "1  8501.0\n",
       "2  5429.0\n",
       "3  2112.0\n",
       "4  6482.0\n",
       "5  7971.0\n",
       "6  9636.0\n",
       "7  4003.0\n",
       "8     NaN\n",
       "9  4697.0"
      ]
     },
     "execution_count": 15,
     "metadata": {},
     "output_type": "execute_result"
    }
   ],
   "source": [
    "inputs = pd.read_csv('day1.csv', sep = \" \", header = None, skip_blank_lines=False)\n",
    "inputs.head(10)"
   ]
  },
  {
   "cell_type": "code",
   "execution_count": 38,
   "metadata": {},
   "outputs": [
    {
     "data": {
      "text/plain": [
       "[8,\n",
       " 21,\n",
       " 34,\n",
       " 38,\n",
       " 45,\n",
       " 61,\n",
       " 73,\n",
       " 84,\n",
       " 95,\n",
       " 108,\n",
       " 114,\n",
       " 116,\n",
       " 127,\n",
       " 142,\n",
       " 151,\n",
       " 166,\n",
       " 179,\n",
       " 187,\n",
       " 202,\n",
       " 217,\n",
       " 221,\n",
       " 225,\n",
       " 227,\n",
       " 240,\n",
       " 243,\n",
       " 250,\n",
       " 252,\n",
       " 268,\n",
       " 280,\n",
       " 283,\n",
       " 288,\n",
       " 293,\n",
       " 307,\n",
       " 320,\n",
       " 325,\n",
       " 338,\n",
       " 340,\n",
       " 346,\n",
       " 352,\n",
       " 363,\n",
       " 375,\n",
       " 384,\n",
       " 391,\n",
       " 402,\n",
       " 409,\n",
       " 425,\n",
       " 435,\n",
       " 438,\n",
       " 453,\n",
       " 469,\n",
       " 478,\n",
       " 480,\n",
       " 496,\n",
       " 511,\n",
       " 526,\n",
       " 542,\n",
       " 553,\n",
       " 555,\n",
       " 558,\n",
       " 570,\n",
       " 584,\n",
       " 597,\n",
       " 604,\n",
       " 608,\n",
       " 610,\n",
       " 613,\n",
       " 620,\n",
       " 635,\n",
       " 645,\n",
       " 655,\n",
       " 659,\n",
       " 675,\n",
       " 690,\n",
       " 703,\n",
       " 719,\n",
       " 726,\n",
       " 740,\n",
       " 754,\n",
       " 770,\n",
       " 779,\n",
       " 795,\n",
       " 808,\n",
       " 818,\n",
       " 832,\n",
       " 843,\n",
       " 850,\n",
       " 862,\n",
       " 869,\n",
       " 880,\n",
       " 890,\n",
       " 895,\n",
       " 897,\n",
       " 901,\n",
       " 910,\n",
       " 918,\n",
       " 923,\n",
       " 931,\n",
       " 945,\n",
       " 957,\n",
       " 963,\n",
       " 972,\n",
       " 984,\n",
       " 996,\n",
       " 1003,\n",
       " 1013,\n",
       " 1017,\n",
       " 1027,\n",
       " 1043,\n",
       " 1050,\n",
       " 1053,\n",
       " 1062,\n",
       " 1069,\n",
       " 1080,\n",
       " 1094,\n",
       " 1107,\n",
       " 1114,\n",
       " 1116,\n",
       " 1118,\n",
       " 1120,\n",
       " 1129,\n",
       " 1136,\n",
       " 1141,\n",
       " 1151,\n",
       " 1163,\n",
       " 1179,\n",
       " 1190,\n",
       " 1203,\n",
       " 1217,\n",
       " 1226,\n",
       " 1228,\n",
       " 1238,\n",
       " 1243,\n",
       " 1249,\n",
       " 1254,\n",
       " 1263,\n",
       " 1275,\n",
       " 1280,\n",
       " 1296,\n",
       " 1310,\n",
       " 1313,\n",
       " 1320,\n",
       " 1326,\n",
       " 1334,\n",
       " 1346,\n",
       " 1361,\n",
       " 1377,\n",
       " 1384,\n",
       " 1394,\n",
       " 1403,\n",
       " 1410,\n",
       " 1420,\n",
       " 1426,\n",
       " 1442,\n",
       " 1456,\n",
       " 1463,\n",
       " 1476,\n",
       " 1479,\n",
       " 1486,\n",
       " 1493,\n",
       " 1500,\n",
       " 1511,\n",
       " 1521,\n",
       " 1525,\n",
       " 1538,\n",
       " 1554,\n",
       " 1561,\n",
       " 1577,\n",
       " 1585,\n",
       " 1592,\n",
       " 1599,\n",
       " 1602,\n",
       " 1613,\n",
       " 1617,\n",
       " 1631,\n",
       " 1636,\n",
       " 1651,\n",
       " 1661,\n",
       " 1675,\n",
       " 1678,\n",
       " 1688,\n",
       " 1704,\n",
       " 1718,\n",
       " 1732,\n",
       " 1746,\n",
       " 1762,\n",
       " 1775,\n",
       " 1778,\n",
       " 1794,\n",
       " 1803,\n",
       " 1813,\n",
       " 1828,\n",
       " 1839,\n",
       " 1843,\n",
       " 1851,\n",
       " 1861,\n",
       " 1873,\n",
       " 1884,\n",
       " 1888,\n",
       " 1901,\n",
       " 1904,\n",
       " 1912,\n",
       " 1915,\n",
       " 1920,\n",
       " 1935,\n",
       " 1944,\n",
       " 1956,\n",
       " 1972,\n",
       " 1984,\n",
       " 1987,\n",
       " 1989,\n",
       " 1995,\n",
       " 2011,\n",
       " 2014,\n",
       " 2018,\n",
       " 2031,\n",
       " 2046,\n",
       " 2057,\n",
       " 2067,\n",
       " 2075,\n",
       " 2082,\n",
       " 2089,\n",
       " 2101,\n",
       " 2113,\n",
       " 2129,\n",
       " 2139,\n",
       " 2152,\n",
       " 2156,\n",
       " 2169,\n",
       " 2177,\n",
       " 2181,\n",
       " 2189,\n",
       " 2195,\n",
       " 2205,\n",
       " 2219,\n",
       " 2222]"
      ]
     },
     "execution_count": 38,
     "metadata": {},
     "output_type": "execute_result"
    }
   ],
   "source": [
    "elfIndex = []\n",
    "counter = 0\n",
    "elfNumber = 0\n",
    "for i in inputs.isnull()[0]:\n",
    "    if i == True:\n",
    "        elfIndex.append(counter)\n",
    "        elfNumber.append()\n",
    "        counter = counter+1\n",
    "\n",
    "    else:\n",
    "        counter = counter+1\n",
    "elfIndex"
   ]
  },
  {
   "cell_type": "code",
   "execution_count": 44,
   "metadata": {},
   "outputs": [],
   "source": [
    "elfCals = []\n",
    "i = 0 \n",
    "cursum = 0\n",
    "while i < len(inputs[0]):\n",
    "    if inputs[0][i] != np.nan:\n",
    "        cursum = cursum + inputs[0][i]\n",
    "        i = i+1\n",
    "    else:\n",
    "        elfCals.append(cursum)\n",
    "        cursum = 0\n",
    "        i = i+1"
   ]
  },
  {
   "cell_type": "code",
   "execution_count": 49,
   "metadata": {},
   "outputs": [],
   "source": [
    "elfIndex = []\n",
    "counter = 0\n",
    "elfNumber = 0\n",
    "for i in inputs.isnull()[0]:\n",
    "    if i == True:\n",
    "        elfIndex.append(counter)\n",
    "        elfNumber.append()\n",
    "        counter = counter+1\n",
    "\n",
    "    else:\n",
    "        counter = counter+1\n",
    "elfIndex"
   ]
  },
  {
   "cell_type": "code",
   "execution_count": 63,
   "metadata": {},
   "outputs": [],
   "source": [
    "init = 0\n",
    "elfSum = []\n",
    "for i in range(len(elfIndex)):\n",
    "    if i == 0:\n",
    "        elfSum.append(np.sum(inputs[0].iloc[0:elfIndex[i]]))\n",
    "    elif i < len(elfIndex)-1:\n",
    "        elfSum.append(np.sum(inputs[0].iloc[elfIndex[i]:elfIndex[i+1]]))\n",
    "    else:\n",
    "        elfSum.append(np.sum(inputs[0].iloc[elfIndex[i]:]))"
   ]
  },
  {
   "cell_type": "code",
   "execution_count": 74,
   "metadata": {},
   "outputs": [
    {
     "data": {
      "text/plain": [
       "211189.0"
      ]
     },
     "execution_count": 74,
     "metadata": {},
     "output_type": "execute_result"
    }
   ],
   "source": [
    "np.sum(elfSum[-3:])"
   ]
  },
  {
   "cell_type": "markdown",
   "metadata": {},
   "source": [
    "# Question on Day 2"
   ]
  },
  {
   "cell_type": "code",
   "execution_count": 46,
   "metadata": {},
   "outputs": [],
   "source": [
    "import numpy as np\n",
    "import pandas as pd\n",
    "outcomes = pd.read_csv('day2.csv', header = None, sep= ' ')\n",
    "outcomes.columns = ['elf', 'me']\n",
    "outcomes_noSplit = pd.read_csv('day2.csv', header = None)\n",
    "outcomes_noSplit.columns = ['dta']"
   ]
  },
  {
   "cell_type": "code",
   "execution_count": 53,
   "metadata": {},
   "outputs": [],
   "source": [
    "outcomeMap = {\n",
    "    'A X' : 'Draw',\n",
    "    'B X' : 'Loss', \n",
    "    'C X': 'Win',\n",
    "    'A Y' : 'Win', \n",
    "    'B Y' : 'Draw', \n",
    "    'C Y': 'Loss',\n",
    "    'A Z' : 'Loss', \n",
    "    'B Z' : 'Win',\n",
    "    'C Z': 'Draw'}\n",
    "\n",
    "elfMap = {\n",
    "    'X' : 1, \n",
    "    'Y' : 2, \n",
    "    'Z': 3 }\n",
    "\n",
    "scorMap = {\n",
    "    'Win': 6 , \n",
    "    'Loss': 0, \n",
    "    'Draw' : 3\n",
    "    }"
   ]
  },
  {
   "cell_type": "code",
   "execution_count": 45,
   "metadata": {},
   "outputs": [
    {
     "data": {
      "text/plain": [
       "11873"
      ]
     },
     "execution_count": 45,
     "metadata": {},
     "output_type": "execute_result"
    }
   ],
   "source": [
    "score = 0\n",
    "for i in outcomes_noSplit.dta:\n",
    "    score = score + scorMap[outcomeMap[i]] + elfMap[i[2]]\n",
    "score"
   ]
  },
  {
   "cell_type": "markdown",
   "metadata": {},
   "source": [
    "### Part 2"
   ]
  },
  {
   "cell_type": "code",
   "execution_count": 48,
   "metadata": {},
   "outputs": [],
   "source": [
    "strat = {\n",
    "    \"X\" : \"Lose\",\n",
    "    \"Y\" : \"Draw\",\n",
    "    'Z' : \"Win\"\n",
    "}\n",
    "\n",
    "winMap = {\n",
    "    \"A\" : \"Y\",\n",
    "    \"B\" : \"Z\",\n",
    "    \"C\" : \"X\"\n",
    "}\n",
    "loseMap = {\n",
    "    \"A\" : \"Z\",\n",
    "    \"B\" : \"X\",\n",
    "    \"C\" : \"Y\"\n",
    "}\n",
    "\n",
    "drawMap = {\n",
    "    \"A\" : \"X\",\n",
    "    \"B\" : \"Y\",\n",
    "    \"C\" : \"Z\"\n",
    "}\n"
   ]
  },
  {
   "cell_type": "code",
   "execution_count": 52,
   "metadata": {},
   "outputs": [
    {
     "data": {
      "text/plain": [
       "12014"
      ]
     },
     "execution_count": 52,
     "metadata": {},
     "output_type": "execute_result"
    }
   ],
   "source": [
    "newScore = 0\n",
    "for i in range(len(outcomes.me)):\n",
    "    strategy = strat[outcomes.me.iloc[i]]\n",
    "    if strategy == \"Lose\":\n",
    "        newScore = newScore + elfMap[loseMap[outcomes.elf.iloc[i]]]\n",
    "    elif strategy == \"Draw\":\n",
    "        newScore = newScore + 3 + elfMap[drawMap[outcomes.elf.iloc[i]]]\n",
    "    else:\n",
    "        newScore = newScore + 6 + elfMap[winMap[outcomes.elf.iloc[i]]]\n",
    "\n",
    "newScore"
   ]
  },
  {
   "cell_type": "markdown",
   "metadata": {},
   "source": [
    "## Part 3"
   ]
  },
  {
   "cell_type": "code",
   "execution_count": 14,
   "metadata": {},
   "outputs": [],
   "source": [
    "# Create alphabet list of lowercase letters\n",
    "lower = []\n",
    "for letter in range(97,123):\n",
    "    lower.append(chr(letter))\n",
    "\n",
    "# Create alphabet list of upper letters\n",
    "upper = []\n",
    "for letter in range(65,91):\n",
    "    upper.append(chr(letter))\n",
    "#Creating scoring dictionary\n",
    "scoreDict = {}\n",
    "for i in range(52):\n",
    "    if i < 26:\n",
    "        scoreDict[lower[i]] = i+1\n",
    "    else: \n",
    "        scoreDict[upper[i-26]] = i+1"
   ]
  },
  {
   "cell_type": "code",
   "execution_count": 15,
   "metadata": {},
   "outputs": [
    {
     "data": {
      "text/plain": [
       "range(65, 91)"
      ]
     },
     "execution_count": 15,
     "metadata": {},
     "output_type": "execute_result"
    }
   ],
   "source": []
  },
  {
   "cell_type": "code",
   "execution_count": 29,
   "metadata": {},
   "outputs": [
    {
     "data": {
      "text/plain": [
       "12"
      ]
     },
     "execution_count": 29,
     "metadata": {},
     "output_type": "execute_result"
    }
   ],
   "source": [
    "test1 = 'vJrwpWtwJgWrhcsFMMfFFhFp'\n",
    "len(test1)//2"
   ]
  },
  {
   "cell_type": "code",
   "execution_count": 22,
   "metadata": {},
   "outputs": [],
   "source": [
    "string1 = test1[0:len(test1)//2]\n",
    "string2 = test1[len(test1)//2:]"
   ]
  },
  {
   "cell_type": "code",
   "execution_count": 39,
   "metadata": {},
   "outputs": [],
   "source": [
    "matchChars = []\n",
    "score = 0\n",
    "for i in range(12):\n",
    "    if string1[i] in string2:\n",
    "        matchChars.append(string1[i])\n",
    "        score = score + scoreDict[string1[i]]\n"
   ]
  },
  {
   "cell_type": "code",
   "execution_count": 47,
   "metadata": {},
   "outputs": [],
   "source": [
    "with open('day3.txt') as f:\n",
    "    alist = [line.rstrip() for line in f]"
   ]
  },
  {
   "cell_type": "code",
   "execution_count": 73,
   "metadata": {},
   "outputs": [
    {
     "data": {
      "text/plain": [
       "8039"
      ]
     },
     "execution_count": 73,
     "metadata": {},
     "output_type": "execute_result"
    }
   ],
   "source": [
    "def part1(alist):\n",
    "    matchChars = []\n",
    "    score = 0\n",
    "    for i in alist:\n",
    "        str1 = i[0:len(i)//2]\n",
    "        str2 = i[len(i)//2:]\n",
    "        # print(str1,str2)\n",
    "        testComp = []\n",
    "        for j in range(len(str1)):\n",
    "            if str1[j] in str2 and str1[j] not in testComp:\n",
    "                # print(str1[j], str2)\n",
    "                testComp.append(str1[j])\n",
    "                matchChars.append(str1[j])\n",
    "                score = score + scoreDict[str1[j]]\n",
    "            else: \n",
    "                pass\n",
    "\n",
    "    return(score)\n",
    "\n",
    "part1(alist)\n"
   ]
  },
  {
   "cell_type": "code",
   "execution_count": 74,
   "metadata": {},
   "outputs": [
    {
     "data": {
      "text/plain": [
       "2510"
      ]
     },
     "execution_count": 74,
     "metadata": {},
     "output_type": "execute_result"
    }
   ],
   "source": [
    "def part2(alist): \n",
    "    i = 0\n",
    "    score2 = 0\n",
    "    while i < len(alist):\n",
    "        str1 = alist[i]\n",
    "        str2 = alist[i+1]\n",
    "        str3 = alist[i+2]\n",
    "        testComp = []\n",
    "        for j in range(len(str1)):\n",
    "            if str1[j] in str2 and str1[j] in str3 and str1[j] not in testComp:\n",
    "                # print(str1[j], str2)\n",
    "                testComp.append(str1[j])\n",
    "                # matchChars.append(str1[j])\n",
    "                score2 = score2 + scoreDict[str1[j]]\n",
    "            else: \n",
    "                pass\n",
    "        i = i+3\n",
    "\n",
    "    return(score2)\n",
    "\n",
    "part2(alist)\n"
   ]
  },
  {
   "cell_type": "markdown",
   "metadata": {},
   "source": [
    "### Day 4"
   ]
  },
  {
   "cell_type": "code",
   "execution_count": 5,
   "metadata": {},
   "outputs": [],
   "source": [
    "import numpy as np\n",
    "with open('day4.txt') as f:\n",
    "    list4 = [line.rstrip() for line in f]"
   ]
  },
  {
   "cell_type": "code",
   "execution_count": 72,
   "metadata": {},
   "outputs": [
    {
     "data": {
      "text/plain": [
       "424"
      ]
     },
     "execution_count": 72,
     "metadata": {},
     "output_type": "execute_result"
    }
   ],
   "source": [
    "# Identifying how many have total overlap\n",
    "count = 0\n",
    "for i in list4:\n",
    "    splitStr = str.split(i,',')\n",
    "    left = str.split(splitStr[0],sep = '-')\n",
    "    # leftArr = [i for i in range(int(left[0]), left[1])]\n",
    "    right = str.split(splitStr[1],sep = '-')\n",
    "    # rightArr = [i for i in range(int(right[0], right[1]+1))]\n",
    "    leftArr = np.array([i for i in range(int(left[0]), int(left[1])+1)])\n",
    "    rightArr = np.array([i for i in range(int(right[0]), int(right[1])+1)])\n",
    "    if np.isin(leftArr, rightArr).all() or np.isin(rightArr, leftArr).all():\n",
    "        count = count + 1\n",
    "    else:\n",
    "        pass\n",
    "    \n",
    "count"
   ]
  },
  {
   "cell_type": "code",
   "execution_count": 74,
   "metadata": {},
   "outputs": [
    {
     "data": {
      "text/plain": [
       "804"
      ]
     },
     "execution_count": 74,
     "metadata": {},
     "output_type": "execute_result"
    }
   ],
   "source": [
    "# Identifying how many have any overlap\n",
    "# Identifying how many have total overlap\n",
    "count2 = 0\n",
    "for i in list4:\n",
    "    splitStr = str.split(i,',')\n",
    "    left = str.split(splitStr[0],sep = '-')\n",
    "    right = str.split(splitStr[1],sep = '-')\n",
    "    leftArr = np.array([i for i in range(int(left[0]), int(left[1])+1)])\n",
    "    rightArr = np.array([i for i in range(int(right[0]), int(right[1])+1)])\n",
    "    if np.isin(leftArr, rightArr).all() or np.isin(rightArr, leftArr).any():\n",
    "        count2 = count2 + 1\n",
    "    else:\n",
    "        pass\n",
    "    \n",
    "count2"
   ]
  }
 ],
 "metadata": {
  "kernelspec": {
   "display_name": "Python 3.10.5 64-bit",
   "language": "python",
   "name": "python3"
  },
  "language_info": {
   "codemirror_mode": {
    "name": "ipython",
    "version": 3
   },
   "file_extension": ".py",
   "mimetype": "text/x-python",
   "name": "python",
   "nbconvert_exporter": "python",
   "pygments_lexer": "ipython3",
   "version": "3.10.5"
  },
  "orig_nbformat": 4,
  "vscode": {
   "interpreter": {
    "hash": "bca98618234c8ab797577772d4e3705ce726a9c0c3adfcb25233bae4af3a7562"
   }
  }
 },
 "nbformat": 4,
 "nbformat_minor": 2
}
